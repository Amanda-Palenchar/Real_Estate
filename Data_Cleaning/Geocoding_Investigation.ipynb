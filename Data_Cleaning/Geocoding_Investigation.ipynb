{
 "cells": [
  {
   "cell_type": "markdown",
   "id": "aa5d8928",
   "metadata": {},
   "source": [
    "### Input Dependencies & Load Data"
   ]
  },
  {
   "cell_type": "code",
   "execution_count": null,
   "id": "850dd296",
   "metadata": {},
   "outputs": [],
   "source": [
    "# Import dependencies\n",
    "import pandas as pd\n",
    "import numpy as np\n",
    "import plotly.express as px\n",
    "\n",
    "# For GEOPY (alternate)\n",
    "from geopy.geocoders import Nominatim\n",
    "\n",
    "# Import the time library and the datetime module from the datetime library \n",
    "import time\n",
    "from datetime import datetime"
   ]
  },
  {
   "cell_type": "code",
   "execution_count": null,
   "id": "bbcd7396",
   "metadata": {},
   "outputs": [],
   "source": [
    "# Create real estate dataframe\n",
    "real_estate_df=pd.read_csv(\"Resources/Real_Estate_Data.csv\")\n",
    "real_estate_df.head()"
   ]
  },
  {
   "cell_type": "code",
   "execution_count": null,
   "id": "2b74b06b",
   "metadata": {},
   "outputs": [],
   "source": [
    "# Create Trader Joe's dataframe\n",
    "trader_joes_df=pd.read_csv(\"Resources/Trader_Joes_Stores.csv\")\n",
    "trader_joes_df.head()"
   ]
  },
  {
   "cell_type": "code",
   "execution_count": null,
   "id": "fb9e100d",
   "metadata": {},
   "outputs": [],
   "source": [
    "# Create Walmart dataframe\n",
    "walmart_df=pd.read_csv(\"Resources/Walmart_Stores.csv\")\n",
    "walmart_df.head()"
   ]
  },
  {
   "cell_type": "markdown",
   "id": "36ec0940",
   "metadata": {},
   "source": [
    "### Clean Real_Estate_Data.csv"
   ]
  },
  {
   "cell_type": "code",
   "execution_count": null,
   "id": "75cb3c02",
   "metadata": {},
   "outputs": [],
   "source": [
    "# Find the length of the real estate df\n",
    "len(real_estate_df)"
   ]
  },
  {
   "cell_type": "code",
   "execution_count": null,
   "id": "97d4a921",
   "metadata": {},
   "outputs": [],
   "source": [
    "# Find the number of null values in each column\n",
    "real_estate_df.isnull().sum()"
   ]
  },
  {
   "cell_type": "code",
   "execution_count": null,
   "id": "74f1111b",
   "metadata": {},
   "outputs": [],
   "source": [
    "# Find unique values for status column\n",
    "real_estate_df.status.unique()"
   ]
  },
  {
   "cell_type": "code",
   "execution_count": null,
   "id": "5a1a2fa9",
   "metadata": {},
   "outputs": [],
   "source": [
    "# Drop status, street, and sold date columns\n",
    "real_estate_df = real_estate_df.drop([\"status\", \"street\", \"sold_date\"], axis=1)\n",
    "real_estate_df.head()"
   ]
  },
  {
   "cell_type": "code",
   "execution_count": null,
   "id": "030592e0",
   "metadata": {},
   "outputs": [],
   "source": [
    "# Fill NAs for acre_lot with 0\n",
    "real_estate_df['acre_lot'] = real_estate_df['acre_lot'].fillna(0)"
   ]
  },
  {
   "cell_type": "code",
   "execution_count": null,
   "id": "2bedf715",
   "metadata": {},
   "outputs": [],
   "source": [
    "# Drop all remaining NAs\n",
    "real_estate_df = real_estate_df.dropna()"
   ]
  },
  {
   "cell_type": "code",
   "execution_count": null,
   "id": "567d5620",
   "metadata": {},
   "outputs": [],
   "source": [
    "# Preview dataframe\n",
    "real_estate_df.head()"
   ]
  },
  {
   "cell_type": "code",
   "execution_count": null,
   "id": "b6684fda",
   "metadata": {},
   "outputs": [],
   "source": [
    "# Checking length after dropping NAs\n",
    "len(real_estate_df)"
   ]
  },
  {
   "cell_type": "code",
   "execution_count": null,
   "id": "6ec1e2a0",
   "metadata": {},
   "outputs": [],
   "source": [
    "# Find unique values for the state column\n",
    "real_estate_df.state.unique()"
   ]
  },
  {
   "cell_type": "code",
   "execution_count": null,
   "id": "29b1bf85",
   "metadata": {},
   "outputs": [],
   "source": [
    "# Dropping states with real estate sales that do not have a TJs\n",
    "\n",
    "real_estate_df = real_estate_df[real_estate_df.state != \"Puerto Rico\"]\n",
    "real_estate_df = real_estate_df[real_estate_df.state != \"Virgin Islands\"]\n",
    "real_estate_df = real_estate_df[real_estate_df.state != \"Wyoming\"]\n",
    "real_estate_df = real_estate_df[real_estate_df.state != \"West Virginia\"]\n",
    "real_estate_df.head()"
   ]
  },
  {
   "cell_type": "code",
   "execution_count": null,
   "id": "a6cc2096",
   "metadata": {},
   "outputs": [],
   "source": [
    "# Checking datatypes specifically for zip code\n",
    "real_estate_df.dtypes"
   ]
  },
  {
   "cell_type": "code",
   "execution_count": null,
   "id": "1d2c663b",
   "metadata": {},
   "outputs": [],
   "source": [
    "# Convert zip_code to 5 digits \n",
    "real_estate_df['zip_code'] = real_estate_df['zip_code'].astype(int).astype(str).str.zfill(5)\n",
    "real_estate_df"
   ]
  },
  {
   "cell_type": "code",
   "execution_count": null,
   "id": "d9d77ec4",
   "metadata": {},
   "outputs": [],
   "source": [
    "# Remove apt from addresses (necessary for geocoding)\n",
    "\n",
    "# Create Forms\n",
    "form_unit=r'(\\s*Unit\\s*[a-zA-Z0-9]+)'\n",
    "form_apt=r'(\\s*Apt\\s*[a-zA-Z0-9]+)'\n",
    "\n",
    "# Remove apt and units from full address\n",
    "real_estate_df['street_address']=real_estate_df['full_address'].str.replace(form_unit,'')\n",
    "real_estate_df['street_address']=real_estate_df['street_address'].str.replace(form_apt,'')\n",
    "real_estate_df.head()"
   ]
  },
  {
   "cell_type": "code",
   "execution_count": null,
   "id": "d2a9d82f",
   "metadata": {},
   "outputs": [],
   "source": [
    "# Checking length after dropping NAs\n",
    "len(real_estate_df)"
   ]
  },
  {
   "cell_type": "markdown",
   "id": "bf399aac",
   "metadata": {},
   "source": [
    "### Clean Trader_Joes_Stores.csv"
   ]
  },
  {
   "cell_type": "code",
   "execution_count": null,
   "id": "4a786663",
   "metadata": {},
   "outputs": [],
   "source": [
    "# Drop phone and website columns\n",
    "trader_joes_df = trader_joes_df.drop([\"phone\", \"website\"], axis=1)\n",
    "trader_joes_df.head()"
   ]
  },
  {
   "cell_type": "code",
   "execution_count": null,
   "id": "d975499b",
   "metadata": {},
   "outputs": [],
   "source": [
    "# Convert zip_code to 5 digits \n",
    "trader_joes_df['zip'] = trader_joes_df['zip'].astype(int).astype(str).str.zfill(5)\n",
    "trader_joes_df.head()"
   ]
  },
  {
   "cell_type": "code",
   "execution_count": null,
   "id": "6a007dfa",
   "metadata": {},
   "outputs": [],
   "source": [
    "# Find unique values for the state column\n",
    "trader_joes_df.state.unique()"
   ]
  },
  {
   "cell_type": "code",
   "execution_count": null,
   "id": "e5435202",
   "metadata": {},
   "outputs": [],
   "source": [
    "# Dropping states with TJs that do not have real estate sales\n",
    "\n",
    "trader_joes_states = ['VT', 'ME', 'RI', 'NH', 'CT', 'PA', 'DE', 'NJ', 'MA', 'NY']\n",
    "\n",
    "for x in trader_joes_states:\n",
    "    new_trader_joes_df = trader_joes_df[trader_joes_df.state == x]\n",
    "new_trader_joes_df.head()"
   ]
  },
  {
   "cell_type": "markdown",
   "id": "d160d81d",
   "metadata": {},
   "source": [
    "### Clean Walmart_Stores.csv"
   ]
  },
  {
   "cell_type": "code",
   "execution_count": null,
   "id": "7878c6c5",
   "metadata": {},
   "outputs": [],
   "source": [
    "# Drop unnecessary columns\n",
    "walmart_df = walmart_df.drop([\"url\", \"phone_number_1\", \"phone_number_2\", \"fax_1\", \"fax_2\", \"email_1\", \"email_2\", \"website\", \"open_hours\", \"facebook\", \"twitter\", \"instagram\", \"pinterest\", \"youtube\"], axis=1)\n",
    "walmart_df.head()"
   ]
  },
  {
   "cell_type": "markdown",
   "id": "318dafba",
   "metadata": {},
   "source": [
    "### Using Latitude & Longitude Values to Calculate the Distance to Trader Joe's Stores"
   ]
  },
  {
   "cell_type": "code",
   "execution_count": null,
   "id": "af375169",
   "metadata": {},
   "outputs": [],
   "source": [
    "# Insert columns for lat / long \n",
    "real_estate_df['location_lat'] = \"\"\n",
    "real_estate_df['location_long'] = \"\"\n",
    "real_estate_df['location_address'] = \"\"\n",
    "real_estate_df.head()"
   ]
  },
  {
   "cell_type": "code",
   "execution_count": null,
   "id": "a16bdfdf",
   "metadata": {},
   "outputs": [],
   "source": [
    "# Getting lat / long for real estate addresses with GeoPy\n",
    "\n",
    "geolocator = Nominatim(user_agent=\"myApp\")\n",
    "\n",
    "# Define record count and set count \n",
    "set_count = 1\n",
    "record_count = 1\n",
    "\n",
    "# Use API to add lat and long\n",
    "for i in real_estate_df.index:\n",
    "\n",
    "    try:\n",
    "        #tries fetch address from geopy\n",
    "        location = geolocator.geocode(real_estate_df['street_address'][i])\n",
    "        \n",
    "        #append lat/long to column using dataframe location\n",
    "        real_estate_df.loc[i,'location_lat'] = location.latitude\n",
    "        real_estate_df.loc[i,'location_long'] = location.longitude\n",
    "        real_estate_df.loc[i,'location_address'] = location.address\n",
    "       \n",
    "    except:\n",
    "        #catches exception for the case where no value is returned\n",
    "        #appends null value to column\n",
    "        real_estate_df.loc[i,'location_lat'] = \"\"\n",
    "        real_estate_df.loc[i,'location_long'] = \"\"\n",
    "        real_estate_df.loc[i,'location_address'] = \"\"\n",
    "    \n",
    "    # Keep track of amount of records\n",
    "    if (i % 1000 == 0 and i >= 1000):\n",
    "        set_count += 1\n",
    "        record_count = 1\n",
    "        \n",
    "    # Log the URL, record, and set numbers and the city.\n",
    "    print(f\"Processing Record {record_count} of Set {set_count}\")\n",
    "    # Add 1 to the record count.\n",
    "    record_count += 1\n",
    "\n",
    "        \n",
    "# Indicate that Data Loading is complete.\n",
    "print(\"-----------------------------\")\n",
    "print(\"Data Retrieval Complete      \")\n",
    "print(\"-----------------------------\")"
   ]
  },
  {
   "cell_type": "code",
   "execution_count": null,
   "id": "d15d8e9c",
   "metadata": {},
   "outputs": [],
   "source": [
    "# # FOR ZIP CODE \n",
    "# # Find whether the zip code of the address has a Trader Joe's \n",
    "\n",
    "# # Insert TJs binary column in df\n",
    "# real_estate_df[\"TJs_store\"] = \"\"\n",
    "\n",
    "# # Create empty list for TJ stores\n",
    "# zip_code_matching = []\n",
    "\n",
    "# # For loop to check matching TJs zip code\n",
    "# for zip_code in range(len(real_estate_df)):\n",
    "    \n",
    "#     if zip_code in trader_joes_df['zip']:\n",
    "#         zip_code_matching.append('Yes')\n",
    "#     else:\n",
    "#         zip_code_matching.append('No')\n",
    "       \n",
    "# real_estate_df[\"TJs_store\"] = zip_code_matching\n",
    "\n",
    "# real_estate_df.sample(10)"
   ]
  },
  {
   "cell_type": "code",
   "execution_count": null,
   "id": "25b94010",
   "metadata": {},
   "outputs": [],
   "source": [
    "# # Find whether the zip code of the address has a Walmart\n",
    "\n",
    "# # Insert TJs binary column in df\n",
    "# real_estate_df[\"Walmart_store\"] = \"\"\n",
    "\n",
    "# # Create empty list for TJ stores\n",
    "# walmart_zip_code_matching = []\n",
    "\n",
    "# # For loop to check matching TJs zip code\n",
    "# for zip_code in range(len(real_estate_df)):\n",
    "    \n",
    "#     if zip_code in walmart_df['zip_code']:\n",
    "#         walmart_zip_code_matching.append('Yes')\n",
    "#     else:\n",
    "#         walmart_zip_code_matching.append('No')\n",
    "       \n",
    "# real_estate_df[\"Walmart_store\"] = walmart_zip_code_matching\n",
    "\n",
    "# real_estate_df.sample(10)"
   ]
  },
  {
   "cell_type": "code",
   "execution_count": null,
   "id": "03ed5823",
   "metadata": {},
   "outputs": [],
   "source": [
    "# # Single address lat/long test\n",
    "# gmaps_key = googlemaps.Client(key=g_key)\n",
    "# geocode_obj = gmaps_key.geocode(\"23 Moore St, Agawam, MA, 01001\")\n",
    "# geocode_obj"
   ]
  },
  {
   "cell_type": "code",
   "execution_count": null,
   "id": "862fc64a",
   "metadata": {},
   "outputs": [],
   "source": [
    "# Finding lat / long for all addresses\n",
    "\n",
    "# Import API key\n",
    "gmaps_key = googlemaps.Client(key=g_key)\n",
    "\n",
    "# Create columns to store longitude and lattitude\n",
    "real_estate_df[\"longitude\"] = None\n",
    "real_estate_df[\"latitude\"] = None\n",
    "\n",
    "# Define record count and set count \n",
    "set_count = 0\n",
    "record_count = 0\n",
    "\n",
    "# Use API to add lat and long\n",
    "for i in real_estate_df.index:\n",
    "    \n",
    "    # Keep track of amount of records\n",
    "    if (i % 1000 == 0 and i >= 1000):\n",
    "        set_count += 1\n",
    "        record_count = 1\n",
    "        \n",
    "    # Log the URL, record, and set numbers and the city.\n",
    "    print(f\"Processing Record {record_count} of Set {set_count}\")\n",
    "    # Add 1 to the record count.\n",
    "    record_count += 1\n",
    "    \n",
    "    geocode_obj = gmaps_key.geocode(real_estate_df.loc[i, \"full_address\"])\n",
    "    try:\n",
    "        lat = geocode_obj[0]['geometry']['location']['lat']\n",
    "        lon = geocode_obj[0]['geometry']['location']['lng']\n",
    "        real_estate_df.loc[i,'latitude'] = lat\n",
    "        real_estate_df.loc[i,'longitude'] = lon\n",
    "    except:\n",
    "        lat = None\n",
    "        lon = None\n",
    "\n",
    "# Indicate that Data Loading is complete.\n",
    "print(\"-----------------------------\")\n",
    "print(\"Data Retrieval Complete      \")\n",
    "print(\"-----------------------------\")"
   ]
  },
  {
   "cell_type": "code",
   "execution_count": null,
   "id": "a965b976",
   "metadata": {},
   "outputs": [],
   "source": [
    "# Find NAs for lat / long\n",
    "real_estate_df.isnull().sum()"
   ]
  },
  {
   "cell_type": "code",
   "execution_count": null,
   "id": "76978bf2",
   "metadata": {},
   "outputs": [],
   "source": [
    "# # Finding the distance from house address to Trader Joes\n",
    "# # https://stackoverflow.com/questions/51793928/distance-between-two-points-in-pandas-csv-data-frame\n",
    "\n",
    "# from math import sin, cos, sqrt, atan2, radians\n",
    "# def calculate_distance(lat1, lon1, lat2, lon2):\n",
    "#     R = 6373.0\n",
    "\n",
    "#     lat1 = radians(lat1)\n",
    "#     lon1 = radians(lon1)\n",
    "#     lat2 = radians(lat2)\n",
    "#     lon2 = radians(lon2)\n",
    "\n",
    "#     dlon = lon2 - lon1\n",
    "#     dlat = lat2 - lat1\n",
    "\n",
    "#     a = sin(dlat / 2)**2 + cos(lat1) * cos(lat2) * sin(dlon / 2)**2\n",
    "#     c = 2 * atan2(sqrt(a), sqrt(1 - a))\n",
    "\n",
    "#     return R * c\n",
    "\n",
    "# df['distance'] = [calculate_distance(**df[['lat1', 'lon1', 'lat2', 'lon2']].iloc[i].to_dict()) for i in range(df.shape[0])]"
   ]
  },
  {
   "cell_type": "markdown",
   "id": "175c1d28",
   "metadata": {},
   "source": [
    "### Inspect Real_Estate_Data.csv Data"
   ]
  },
  {
   "cell_type": "code",
   "execution_count": null,
   "id": "f2195701",
   "metadata": {},
   "outputs": [],
   "source": [
    "# LOOK AT DOCUMENTATION FOR THIS AND ADD OTHER VARIABLES\n",
    "# https://www.geeksforgeeks.org/python-pandas-dataframe-corr/\n",
    "real_estate_df.corr()"
   ]
  },
  {
   "cell_type": "code",
   "execution_count": null,
   "id": "86ddb100",
   "metadata": {},
   "outputs": [],
   "source": [
    "# Investigating distribution\n",
    "real_estate_df.describe()"
   ]
  },
  {
   "cell_type": "code",
   "execution_count": null,
   "id": "80d6bd70",
   "metadata": {},
   "outputs": [],
   "source": [
    "# Creating histogram of prices\n",
    "fig = px.histogram(real_estate_df, x='price')\n",
    "fig.show()"
   ]
  },
  {
   "cell_type": "code",
   "execution_count": null,
   "id": "f2d1e78a",
   "metadata": {},
   "outputs": [],
   "source": [
    "# Creating a box plot of prices\n",
    "fig = px.box(real_estate_df, y='price')\n",
    "fig.show()"
   ]
  },
  {
   "cell_type": "code",
   "execution_count": null,
   "id": "77749a75",
   "metadata": {},
   "outputs": [],
   "source": [
    "# Creating a scatter plot of two separate variables\n",
    "fig = px.scatter(x=real_estate_df['price'], y=real_estate_df['bed'])\n",
    "fig.show()"
   ]
  },
  {
   "cell_type": "code",
   "execution_count": null,
   "id": "5007f16d",
   "metadata": {},
   "outputs": [],
   "source": [
    "# Find outliers for price\n",
    "def find_outliers_IQR(real_estate_df):\n",
    "    q1=real_estate_df.quantile(0.25)\n",
    "    q3=real_estate_df.quantile(0.75)\n",
    "    IQR=q3-q1\n",
    "    outliers = real_estate_df[((real_estate_df<(q1-1.5*IQR)) | (real_estate_df>(q3+1.5*IQR)))]\n",
    "    return outliers\n",
    "\n",
    "outliers = find_outliers_IQR(real_estate_df['price'])\n",
    "print('number of outliers: '+ str(len(outliers)))\n",
    "print('max outlier value: '+ str(outliers.max()))\n",
    "print('min outlier value: '+ str(outliers.min()))"
   ]
  },
  {
   "cell_type": "code",
   "execution_count": null,
   "id": "006535f5",
   "metadata": {},
   "outputs": [],
   "source": [
    "# Find outliers for all columns and drop\n",
    "outliers = find_outliers_IQR(real_estate_df[['price','bed', 'bath', 'acre_lot', 'house_size']]).dropna(thresh=2)\n",
    "outliers"
   ]
  },
  {
   "cell_type": "code",
   "execution_count": null,
   "id": "6a7f8f9c",
   "metadata": {},
   "outputs": [],
   "source": [
    "# Find the expected length of the new dataframe\n",
    "(len(real_estate_df)) - (len(outliers))"
   ]
  },
  {
   "cell_type": "code",
   "execution_count": null,
   "id": "4398cbd8",
   "metadata": {},
   "outputs": [],
   "source": [
    "# Remove outliers\n",
    "clean_real_estate_df= real_estate_df[~real_estate_df.index.isin(outliers.index)]\n",
    "clean_real_estate_df.head()"
   ]
  },
  {
   "cell_type": "code",
   "execution_count": null,
   "id": "44ef014d",
   "metadata": {},
   "outputs": [],
   "source": [
    "# Find the length of the new dataframe\n",
    "len(clean_real_estate_df)"
   ]
  },
  {
   "cell_type": "code",
   "execution_count": null,
   "id": "10d11c7f",
   "metadata": {},
   "outputs": [],
   "source": [
    "# Remove $160 mil house\n",
    "clean_real_estate_df = clean_real_estate_df[clean_real_estate_df.price <= 160000000]"
   ]
  },
  {
   "cell_type": "code",
   "execution_count": null,
   "id": "e03ff471",
   "metadata": {},
   "outputs": [],
   "source": [
    "# Creating histogram of prices\n",
    "fig = px.histogram(clean_real_estate_df, x='price')\n",
    "fig.show()"
   ]
  },
  {
   "cell_type": "code",
   "execution_count": null,
   "id": "1abae4e4",
   "metadata": {},
   "outputs": [],
   "source": [
    "# Creating a box plot of prices\n",
    "fig = px.box(clean_real_estate_df, y='price')\n",
    "fig.show()"
   ]
  },
  {
   "cell_type": "code",
   "execution_count": null,
   "id": "6a1634a9",
   "metadata": {},
   "outputs": [],
   "source": [
    "# Creating a scatter plot of two separate variables\n",
    "fig = px.scatter(x=clean_real_estate_df['price'], y=clean_real_estate_df['bed'])\n",
    "fig.show()"
   ]
  },
  {
   "cell_type": "code",
   "execution_count": null,
   "id": "341a45a0",
   "metadata": {},
   "outputs": [],
   "source": [
    "# Export dataframe to CSV\n",
    "compression_opts = dict(method='zip', archive_name='Resources/Clean_Real_Estate.csv')\n",
    "clean_real_estate_df.to_csv('Resources/Clean_Real_Estate.zip', index=False, compression=compression_opts)"
   ]
  },
  {
   "cell_type": "code",
   "execution_count": null,
   "id": "7c92a3ad",
   "metadata": {},
   "outputs": [],
   "source": []
  }
 ],
 "metadata": {
  "kernelspec": {
   "display_name": "Python 3 (ipykernel)",
   "language": "python",
   "name": "python3"
  },
  "language_info": {
   "codemirror_mode": {
    "name": "ipython",
    "version": 3
   },
   "file_extension": ".py",
   "mimetype": "text/x-python",
   "name": "python",
   "nbconvert_exporter": "python",
   "pygments_lexer": "ipython3",
   "version": "3.9.12"
  }
 },
 "nbformat": 4,
 "nbformat_minor": 5
}
