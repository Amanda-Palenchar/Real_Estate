{
 "cells": [
  {
   "cell_type": "markdown",
   "id": "aa5d8928",
   "metadata": {},
   "source": [
    "### Input Dependencies & Load Data"
   ]
  },
  {
   "cell_type": "code",
   "execution_count": null,
   "id": "850dd296",
   "metadata": {},
   "outputs": [],
   "source": [
    "# Import dependencies\n",
    "import pandas as pd\n",
    "import numpy as np\n",
    "import plotly.express as px\n",
    "import matplotlib.pyplot as plt\n",
    "import seaborn as sns"
   ]
  },
  {
   "cell_type": "code",
   "execution_count": null,
   "id": "bbcd7396",
   "metadata": {},
   "outputs": [],
   "source": [
    "# Create real estate dataframe\n",
    "real_estate_df=pd.read_csv(\"Resources/Real_Estate_Data.csv\")\n",
    "real_estate_df.head()"
   ]
  },
  {
   "cell_type": "code",
   "execution_count": null,
   "id": "2b74b06b",
   "metadata": {},
   "outputs": [],
   "source": [
    "# Create Trader Joe's dataframe\n",
    "trader_joes_df=pd.read_csv(\"Resources/Trader_Joes_Stores.csv\")\n",
    "trader_joes_df.head()"
   ]
  },
  {
   "cell_type": "code",
   "execution_count": null,
   "id": "fb9e100d",
   "metadata": {},
   "outputs": [],
   "source": [
    "# Create Walmart dataframe\n",
    "walmart_df=pd.read_csv(\"Resources/Walmart_Stores.csv\")\n",
    "walmart_df.head()"
   ]
  },
  {
   "cell_type": "markdown",
   "id": "36ec0940",
   "metadata": {},
   "source": [
    "### Clean Real_Estate_Data.csv"
   ]
  },
  {
   "cell_type": "code",
   "execution_count": null,
   "id": "75cb3c02",
   "metadata": {},
   "outputs": [],
   "source": [
    "# Find the length of the real estate df\n",
    "len(real_estate_df)"
   ]
  },
  {
   "cell_type": "code",
   "execution_count": null,
   "id": "97d4a921",
   "metadata": {},
   "outputs": [],
   "source": [
    "# Find the number of null values in each column\n",
    "real_estate_df.isnull().sum()"
   ]
  },
  {
   "cell_type": "code",
   "execution_count": null,
   "id": "74f1111b",
   "metadata": {},
   "outputs": [],
   "source": [
    "# Find unique values for status column\n",
    "real_estate_df.status.unique()"
   ]
  },
  {
   "cell_type": "code",
   "execution_count": null,
   "id": "5a1a2fa9",
   "metadata": {},
   "outputs": [],
   "source": [
    "# Drop status, street, and sold date columns\n",
    "real_estate_df = real_estate_df.drop([\"status\", \"street\", \"sold_date\"], axis=1)\n",
    "real_estate_df.head()"
   ]
  },
  {
   "cell_type": "code",
   "execution_count": null,
   "id": "030592e0",
   "metadata": {},
   "outputs": [],
   "source": [
    "# Fill NAs for acre_lot with 0\n",
    "real_estate_df['acre_lot'] = real_estate_df['acre_lot'].fillna(0)"
   ]
  },
  {
   "cell_type": "code",
   "execution_count": null,
   "id": "2bedf715",
   "metadata": {},
   "outputs": [],
   "source": [
    "# Drop all remaining NAs\n",
    "real_estate_df = real_estate_df.dropna()"
   ]
  },
  {
   "cell_type": "code",
   "execution_count": null,
   "id": "567d5620",
   "metadata": {},
   "outputs": [],
   "source": [
    "# Preview dataframe\n",
    "real_estate_df.head()"
   ]
  },
  {
   "cell_type": "code",
   "execution_count": null,
   "id": "b6684fda",
   "metadata": {},
   "outputs": [],
   "source": [
    "# Checking length after dropping NAs\n",
    "len(real_estate_df)"
   ]
  },
  {
   "cell_type": "code",
   "execution_count": null,
   "id": "6ec1e2a0",
   "metadata": {},
   "outputs": [],
   "source": [
    "# Find unique values for the state column\n",
    "real_estate_df.state.unique()"
   ]
  },
  {
   "cell_type": "code",
   "execution_count": null,
   "id": "29b1bf85",
   "metadata": {},
   "outputs": [],
   "source": [
    "# Dropping states with real estate sales that do not have a TJs\n",
    "\n",
    "real_estate_df = real_estate_df[real_estate_df.state != \"Puerto Rico\"]\n",
    "real_estate_df = real_estate_df[real_estate_df.state != \"Virgin Islands\"]\n",
    "real_estate_df = real_estate_df[real_estate_df.state != \"Wyoming\"]\n",
    "real_estate_df = real_estate_df[real_estate_df.state != \"West Virginia\"]\n",
    "real_estate_df = real_estate_df[real_estate_df.state != \"Georgia\"]\n",
    "real_estate_df.head()"
   ]
  },
  {
   "cell_type": "code",
   "execution_count": null,
   "id": "a6cc2096",
   "metadata": {},
   "outputs": [],
   "source": [
    "# Checking datatypes specifically for zip code\n",
    "real_estate_df.dtypes"
   ]
  },
  {
   "cell_type": "code",
   "execution_count": null,
   "id": "1d2c663b",
   "metadata": {},
   "outputs": [],
   "source": [
    "# Convert zip_code to 5 digits \n",
    "real_estate_df['zip_code'] = real_estate_df['zip_code'].astype(int).astype(str).str.zfill(5)\n",
    "real_estate_df"
   ]
  },
  {
   "cell_type": "code",
   "execution_count": null,
   "id": "d2a9d82f",
   "metadata": {},
   "outputs": [],
   "source": [
    "# Checking length after dropping NAs\n",
    "len(real_estate_df)"
   ]
  },
  {
   "cell_type": "code",
   "execution_count": null,
   "id": "30347f41",
   "metadata": {},
   "outputs": [],
   "source": [
    "# Find the number of entries per state\n",
    "real_estate_df['state'].value_counts()"
   ]
  },
  {
   "cell_type": "markdown",
   "id": "bf399aac",
   "metadata": {},
   "source": [
    "### Clean Trader_Joes_Stores.csv"
   ]
  },
  {
   "cell_type": "code",
   "execution_count": null,
   "id": "4a786663",
   "metadata": {},
   "outputs": [],
   "source": [
    "# Drop phone and website columns\n",
    "trader_joes_df = trader_joes_df.drop([\"phone\", \"website\"], axis=1)\n",
    "trader_joes_df.head()"
   ]
  },
  {
   "cell_type": "code",
   "execution_count": null,
   "id": "d975499b",
   "metadata": {},
   "outputs": [],
   "source": [
    "# Convert zip_code to 5 digits \n",
    "trader_joes_df['zip'] = trader_joes_df['zip'].astype(int).astype(str).str.zfill(5)\n",
    "trader_joes_df.head()"
   ]
  },
  {
   "cell_type": "code",
   "execution_count": null,
   "id": "6a007dfa",
   "metadata": {},
   "outputs": [],
   "source": [
    "# Find unique values for the state column\n",
    "trader_joes_df.state.unique()"
   ]
  },
  {
   "cell_type": "code",
   "execution_count": null,
   "id": "e5435202",
   "metadata": {},
   "outputs": [],
   "source": [
    "# Dropping states with TJs that do not have real estate sales\n",
    "\n",
    "trader_joes_states = ['VT', 'ME', 'RI', 'NH', 'CT', 'PA', 'DE', 'NJ', 'MA', 'NY']\n",
    "new_trader_joes_list=[]\n",
    "for x in trader_joes_states:\n",
    "    state_df=trader_joes_df[trader_joes_df.state == x]\n",
    "    new_trader_joes_list.append(state_df)\n",
    "# state_df\n",
    "new_trader_joes_list\n",
    "\n",
    "new_trader_joes_df=pd.concat(new_trader_joes_list)\n",
    "new_trader_joes_df"
   ]
  },
  {
   "cell_type": "code",
   "execution_count": null,
   "id": "59e33bd1",
   "metadata": {},
   "outputs": [],
   "source": [
    "#Testing that we got what we needed\n",
    "ma=new_trader_joes_df[new_trader_joes_df['state']=='PA']\n",
    "ma"
   ]
  },
  {
   "cell_type": "markdown",
   "id": "d160d81d",
   "metadata": {},
   "source": [
    "### Clean Walmart_Stores.csv"
   ]
  },
  {
   "cell_type": "code",
   "execution_count": null,
   "id": "7878c6c5",
   "metadata": {},
   "outputs": [],
   "source": [
    "# Drop unnecessary columns\n",
    "walmart_df = walmart_df.drop([\"url\", \"phone_number_1\", \"phone_number_2\", \"fax_1\", \"fax_2\", \"email_1\", \"email_2\", \"website\", \"open_hours\", \"facebook\", \"twitter\", \"instagram\", \"pinterest\", \"youtube\"], axis=1)\n",
    "walmart_df.head()"
   ]
  },
  {
   "cell_type": "code",
   "execution_count": null,
   "id": "9ea3e746",
   "metadata": {},
   "outputs": [],
   "source": [
    "# Convert zip_code to 5 digits \n",
    "walmart_df['zip_code'] = walmart_df['zip_code'].astype(int).astype(str).str.zfill(5)\n",
    "walmart_df.head()"
   ]
  },
  {
   "cell_type": "code",
   "execution_count": null,
   "id": "18aafd94",
   "metadata": {
    "scrolled": true
   },
   "outputs": [],
   "source": [
    "# Dropping states with Walmarts that do not have real estate sales\n",
    "\n",
    "walmart_states = ['VT', 'ME', 'RI', 'NH', 'CT', 'PA', 'DE', 'NJ', 'MA', 'NY']\n",
    "new_walmart_list=[]\n",
    "for x in walmart_states:\n",
    "    walmart_state_df=walmart_df[walmart_df.state == x]\n",
    "    new_walmart_list.append(walmart_state_df)\n",
    "\n",
    "new_walmart_df=pd.concat(new_walmart_list)\n",
    "new_walmart_df"
   ]
  },
  {
   "cell_type": "markdown",
   "id": "318dafba",
   "metadata": {},
   "source": [
    "### Find Zip Code Matches for Trader Joe's & Walmart"
   ]
  },
  {
   "cell_type": "code",
   "execution_count": null,
   "id": "d3b13839",
   "metadata": {
    "scrolled": false
   },
   "outputs": [],
   "source": [
    "# Identify the number of TJs in a given zip code \n",
    "\n",
    "# Create df for TJs store count\n",
    "TJs_store_count=pd.DataFrame(new_trader_joes_df.zip.value_counts())\n",
    "TJs_store_count.reset_index(inplace=True)\n",
    "TJs_store_count=TJs_store_count.rename(columns={\"index\":\"zip_code\",\"zip\":\"TJs_store_count\"})\n",
    "\n",
    "# Merge TJs_store_count to get total stores within matching zip code\n",
    "TJs_real_estate_df = pd.merge(real_estate_df, TJs_store_count,how=\"outer\", left_on='zip_code', right_on='zip_code')\n",
    "TJs_real_estate_df"
   ]
  },
  {
   "cell_type": "code",
   "execution_count": null,
   "id": "757b02ec",
   "metadata": {},
   "outputs": [],
   "source": [
    "# Fill TJs_store_count NaNs with 0\n",
    "TJs_real_estate_df['TJs_store_count'] = TJs_real_estate_df['TJs_store_count'].fillna(0)"
   ]
  },
  {
   "cell_type": "code",
   "execution_count": null,
   "id": "6a67c4f8",
   "metadata": {},
   "outputs": [],
   "source": [
    "# Drop NaNs in TJs_real_estate_df\n",
    "TJs_real_estate_df = TJs_real_estate_df.dropna()"
   ]
  },
  {
   "cell_type": "code",
   "execution_count": null,
   "id": "30fb1d95",
   "metadata": {},
   "outputs": [],
   "source": [
    "# Ensuring above code is functional\n",
    "TJs_real_estate_df.sample(15)"
   ]
  },
  {
   "cell_type": "code",
   "execution_count": null,
   "id": "e77b2d74",
   "metadata": {},
   "outputs": [],
   "source": [
    "# Testing a zip code known to have TJs to make sure code works\n",
    "TJs_real_estate_df[TJs_real_estate_df.zip_code=='01035']"
   ]
  },
  {
   "cell_type": "code",
   "execution_count": null,
   "id": "9dd683c7",
   "metadata": {},
   "outputs": [],
   "source": [
    "# Identify the number of Walmarts in a given zip code \n",
    "\n",
    "# Create df for walmart store count\n",
    "walmart_store_count=pd.DataFrame(new_walmart_df.zip_code.value_counts())\n",
    "walmart_store_count.reset_index(inplace=True)\n",
    "walmart_store_count=walmart_store_count.rename(columns={\"index\":\"zip_code\",\"zip_code\":\"walmart_store_count\"})\n",
    "\n",
    "# Merge Walmart store count with real estate dataframe\n",
    "new_real_estate_df = pd.merge(TJs_real_estate_df, walmart_store_count,how=\"outer\", left_on='zip_code', right_on='zip_code')\n",
    "new_real_estate_df"
   ]
  },
  {
   "cell_type": "code",
   "execution_count": null,
   "id": "917cea34",
   "metadata": {},
   "outputs": [],
   "source": [
    "# Fill walmart_store_count NaNs with 0\n",
    "new_real_estate_df['walmart_store_count'] = new_real_estate_df['walmart_store_count'].fillna(0)"
   ]
  },
  {
   "cell_type": "code",
   "execution_count": null,
   "id": "081d11e6",
   "metadata": {},
   "outputs": [],
   "source": [
    "# Drop NaNs in new_real_estate_df\n",
    "new_real_estate_df = new_real_estate_df.dropna()"
   ]
  },
  {
   "cell_type": "code",
   "execution_count": null,
   "id": "89be4243",
   "metadata": {},
   "outputs": [],
   "source": [
    "new_real_estate_df.sample(15)"
   ]
  },
  {
   "cell_type": "markdown",
   "id": "175c1d28",
   "metadata": {},
   "source": [
    "### Inspect Real_Estate_Data.csv Data"
   ]
  },
  {
   "cell_type": "code",
   "execution_count": null,
   "id": "f2195701",
   "metadata": {},
   "outputs": [],
   "source": [
    "# Investigating correlation between variables\n",
    "new_real_estate_df.corr()"
   ]
  },
  {
   "cell_type": "code",
   "execution_count": null,
   "id": "86ddb100",
   "metadata": {},
   "outputs": [],
   "source": [
    "# Investigating distribution\n",
    "new_real_estate_df.describe()"
   ]
  },
  {
   "cell_type": "code",
   "execution_count": null,
   "id": "80d6bd70",
   "metadata": {},
   "outputs": [],
   "source": [
    "# Creating histogram of prices\n",
    "fig = px.histogram(new_real_estate_df, x='price')\n",
    "fig.show()"
   ]
  },
  {
   "cell_type": "code",
   "execution_count": null,
   "id": "f2d1e78a",
   "metadata": {},
   "outputs": [],
   "source": [
    "# Creating a box plot of prices\n",
    "fig = px.box(new_real_estate_df, y='price')\n",
    "fig.show()"
   ]
  },
  {
   "cell_type": "code",
   "execution_count": null,
   "id": "77749a75",
   "metadata": {},
   "outputs": [],
   "source": [
    "# Creating a scatter plot of two separate variables\n",
    "fig = px.scatter(x=new_real_estate_df['price'], y=new_real_estate_df['bed'])\n",
    "fig.show()"
   ]
  },
  {
   "cell_type": "code",
   "execution_count": null,
   "id": "5007f16d",
   "metadata": {},
   "outputs": [],
   "source": [
    "# Find outliers for price\n",
    "def find_outliers_IQR(new_real_estate_df):\n",
    "    q1=new_real_estate_df.quantile(0.25)\n",
    "    q3=new_real_estate_df.quantile(0.75)\n",
    "    IQR=q3-q1\n",
    "    outliers = new_real_estate_df[((new_real_estate_df<(q1-1.5*IQR)) | (new_real_estate_df>(q3+1.5*IQR)))]\n",
    "    return outliers\n",
    "\n",
    "outliers = find_outliers_IQR(new_real_estate_df['price'])\n",
    "print('number of outliers: '+ str(len(outliers)))\n",
    "print('max outlier value: '+ str(outliers.max()))\n",
    "print('min outlier value: '+ str(outliers.min()))"
   ]
  },
  {
   "cell_type": "code",
   "execution_count": null,
   "id": "006535f5",
   "metadata": {},
   "outputs": [],
   "source": [
    "# Find outliers for all columns and drop\n",
    "outliers = find_outliers_IQR(new_real_estate_df[['price','bed', 'bath', 'acre_lot', 'house_size']]).dropna(thresh=2)\n",
    "outliers"
   ]
  },
  {
   "cell_type": "code",
   "execution_count": null,
   "id": "6a7f8f9c",
   "metadata": {},
   "outputs": [],
   "source": [
    "# Find the expected length of the new dataframe\n",
    "(len(new_real_estate_df)) - (len(outliers))"
   ]
  },
  {
   "cell_type": "code",
   "execution_count": null,
   "id": "4398cbd8",
   "metadata": {},
   "outputs": [],
   "source": [
    "# Remove outliers\n",
    "clean_real_estate_df= new_real_estate_df[~new_real_estate_df.index.isin(outliers.index)]\n",
    "clean_real_estate_df.head()"
   ]
  },
  {
   "cell_type": "code",
   "execution_count": null,
   "id": "44ef014d",
   "metadata": {},
   "outputs": [],
   "source": [
    "# Find the length of the new dataframe\n",
    "len(clean_real_estate_df)"
   ]
  },
  {
   "cell_type": "code",
   "execution_count": null,
   "id": "10d11c7f",
   "metadata": {},
   "outputs": [],
   "source": [
    "# Remove $160 mil house\n",
    "clean_real_estate_df = clean_real_estate_df[clean_real_estate_df.price <= 160000000]"
   ]
  },
  {
   "cell_type": "code",
   "execution_count": null,
   "id": "e3a98fdf",
   "metadata": {},
   "outputs": [],
   "source": [
    "# Find the number of entries per state\n",
    "clean_real_estate_df['state'].value_counts()"
   ]
  },
  {
   "cell_type": "code",
   "execution_count": null,
   "id": "5f3f0ccd",
   "metadata": {},
   "outputs": [],
   "source": [
    "clean_real_estate_df = clean_real_estate_df.rename(columns={\"price\": \"Price\", \"bed\": \"Bed\", \"bath\": \"Bath\", \"acre_lot\": \"Acre Lot\", \"full_address\": \"Address\", \"city\": \"City\", \"state\": \"State\", \"zip_code\": \"Zip Code\", \"house_size\": \"House Size\", \"TJs_store_count\": \"Trader Joe's Proximity\", \"walmart_store_count\": \"Walmart Proximity\"})\n",
    "clean_real_estate_df.head()"
   ]
  },
  {
   "cell_type": "code",
   "execution_count": null,
   "id": "824d8e00",
   "metadata": {},
   "outputs": [],
   "source": [
    "# Plot correlation matrix\n",
    "\n",
    "df_corr = clean_real_estate_df.corr(method=\"pearson\").round(2)\n",
    "\n",
    "plt.figure(figsize=(5, 5),dpi=600)\n",
    "g=sns.heatmap(df_corr, square=True,\n",
    "            center=0, annot=True, linewidths=.5,\n",
    "            cmap=\"Blues\", cbar_kws={\"shrink\": 0.8},vmin=-1,vmax=1);\n",
    "g.set_xticklabels(g.get_xticklabels(),rotation=45,fontsize=10,ha='right')\n",
    "plt.title('Correlation Matrix')"
   ]
  },
  {
   "cell_type": "code",
   "execution_count": null,
   "id": "e03ff471",
   "metadata": {},
   "outputs": [],
   "source": [
    "# Creating histogram of prices\n",
    "fig = px.histogram(clean_real_estate_df, x='Price')\n",
    "fig.show()"
   ]
  },
  {
   "cell_type": "code",
   "execution_count": null,
   "id": "1abae4e4",
   "metadata": {},
   "outputs": [],
   "source": [
    "# Creating a box plot of prices\n",
    "fig = px.box(clean_real_estate_df, y='Price')\n",
    "fig.show()"
   ]
  },
  {
   "cell_type": "code",
   "execution_count": null,
   "id": "6a1634a9",
   "metadata": {},
   "outputs": [],
   "source": [
    "# Creating a scatter plot of two separate variables\n",
    "fig = px.scatter(x=clean_real_estate_df['Price'], y=clean_real_estate_df['Bed'])\n",
    "fig.show()"
   ]
  },
  {
   "cell_type": "code",
   "execution_count": null,
   "id": "341a45a0",
   "metadata": {},
   "outputs": [],
   "source": [
    "# # Export dataframe to CSV\n",
    "# compression_opts = dict(method='zip', archive_name='Resources/Clean_Real_Estate.csv')\n",
    "# clean_real_estate_df.to_csv('Resources/Clean_Real_Estate.zip', index=False, compression=compression_opts)"
   ]
  },
  {
   "cell_type": "code",
   "execution_count": null,
   "id": "7c92a3ad",
   "metadata": {},
   "outputs": [],
   "source": [
    "# # Export sample CSC\n",
    "# clean_real_estate_df.sample(500).to_csv('Resources/real_estate_sample_500.csv', index=False)"
   ]
  },
  {
   "cell_type": "code",
   "execution_count": null,
   "id": "826efff7",
   "metadata": {},
   "outputs": [],
   "source": [
    "# # Export sample CSC\n",
    "# clean_real_estate_df.sample(1000).to_csv('Resources/real_estate_sample_1000.csv', index=False)"
   ]
  },
  {
   "cell_type": "code",
   "execution_count": null,
   "id": "e2861eb0",
   "metadata": {},
   "outputs": [],
   "source": []
  }
 ],
 "metadata": {
  "kernelspec": {
   "display_name": "Python 3 (ipykernel)",
   "language": "python",
   "name": "python3"
  },
  "language_info": {
   "codemirror_mode": {
    "name": "ipython",
    "version": 3
   },
   "file_extension": ".py",
   "mimetype": "text/x-python",
   "name": "python",
   "nbconvert_exporter": "python",
   "pygments_lexer": "ipython3",
   "version": "3.9.12"
  }
 },
 "nbformat": 4,
 "nbformat_minor": 5
}
